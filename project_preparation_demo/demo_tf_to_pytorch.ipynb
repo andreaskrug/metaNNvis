{
 "cells": [
  {
   "cell_type": "code",
   "execution_count": 1,
   "metadata": {
    "collapsed": true
   },
   "outputs": [],
   "source": [
    "import os\n",
    "import tensorflow as tf\n",
    "from tensorflow.keras import datasets, layers, models\n",
    "import numpy as np\n",
    "from numpy.random import default_rng\n",
    "rng = default_rng()\n",
    "import matplotlib.pyplot as plt"
   ]
  },
  {
   "cell_type": "code",
   "execution_count": 2,
   "outputs": [
    {
     "name": "stdout",
     "output_type": "stream",
     "text": [
      "Number of original training examples: 60000, shape: (60000, 28, 28, 1)\n",
      "Number of original test examples: 10000\n"
     ]
    }
   ],
   "source": [
    "(x_train, y_train), (x_test, y_test) = tf.keras.datasets.mnist.load_data()\n",
    "x_train, x_test = x_train[..., np.newaxis]/255.0, x_test[..., np.newaxis]/255.0\n",
    "\n",
    "print(f\"Number of original training examples: {len(x_train)}, shape: {np.shape(x_train)}\")\n",
    "print(\"Number of original test examples:\", len(x_test))"
   ],
   "metadata": {
    "collapsed": false,
    "pycharm": {
     "name": "#%%\n"
    }
   }
  },
  {
   "cell_type": "code",
   "execution_count": 3,
   "outputs": [
    {
     "data": {
      "text/plain": "<Figure size 1152x720 with 5 Axes>",
      "image/png": "[encoded data removed]"
     },
     "metadata": {
      "needs_background": "light"
     },
     "output_type": "display_data"
    }
   ],
   "source": [
    "figure = plt.figure(figsize=(16, 10))\n",
    "cols, rows = 5, 1\n",
    "for i in range(1, cols * rows + 1):\n",
    "    sample_idx = rng.integers(len(x_train), size=(1,)).item()\n",
    "    figure.add_subplot(rows, cols, i)\n",
    "    plt.title(f'label: {y_train[sample_idx]}')\n",
    "    plt.axis(\"off\")\n",
    "    plt.imshow(x_train[sample_idx].squeeze(), cmap=\"gray\")\n",
    "plt.show()"
   ],
   "metadata": {
    "collapsed": false,
    "pycharm": {
     "name": "#%%\n"
    }
   }
  },
  {
   "cell_type": "code",
   "execution_count": 4,
   "outputs": [
    {
     "name": "stdout",
     "output_type": "stream",
     "text": [
      "(None, 10)\n",
      "Model: \"sequential\"\n",
      "_________________________________________________________________\n",
      " Layer (type)                Output Shape              Param #   \n",
      "=================================================================\n",
      " conv2d (Conv2D)             (None, 24, 24, 10)        260       \n",
      "                                                                 \n",
      " max_pooling2d (MaxPooling2D  (None, 12, 12, 10)       0         \n",
      " )                                                               \n",
      "                                                                 \n",
      " conv2d_1 (Conv2D)           (None, 8, 8, 20)          5020      \n",
      "                                                                 \n",
      " dropout (Dropout)           (None, 8, 8, 20)          0         \n",
      "                                                                 \n",
      " max_pooling2d_1 (MaxPooling  (None, 4, 4, 20)         0         \n",
      " 2D)                                                             \n",
      "                                                                 \n",
      " flatten (Flatten)           (None, 320)               0         \n",
      "                                                                 \n",
      " dense (Dense)               (None, 50)                16050     \n",
      "                                                                 \n",
      " dropout_1 (Dropout)         (None, 50)                0         \n",
      "                                                                 \n",
      " dense_1 (Dense)             (None, 10)                510       \n",
      "                                                                 \n",
      "=================================================================\n",
      "Total params: 21,840\n",
      "Trainable params: 21,840\n",
      "Non-trainable params: 0\n",
      "_________________________________________________________________\n",
      "None\n"
     ]
    }
   ],
   "source": [
    "model = models.Sequential()\n",
    "model.add(layers.Conv2D(10, (5,5), activation='relu', input_shape=(28, 28, 1)))\n",
    "model.add(layers.MaxPooling2D((2, 2)))\n",
    "model.add(layers.Conv2D(20, (5,5), activation='relu'))\n",
    "model.add(layers.Dropout(0.5))\n",
    "model.add(layers.MaxPooling2D((2, 2)))\n",
    "model.add(layers.Flatten())\n",
    "model.add(layers.Dense(50, activation='relu'))\n",
    "model.add(layers.Dropout(0.5))\n",
    "model.add(layers.Dense(10, activation='softmax'))\n",
    "print(model.output_shape)\n",
    "print(model.summary())"
   ],
   "metadata": {
    "collapsed": false,
    "pycharm": {
     "name": "#%%\n"
    }
   }
  },
  {
   "cell_type": "code",
   "execution_count": 18,
   "outputs": [
    {
     "name": "stdout",
     "output_type": "stream",
     "text": [
      "Epoch 1/10\n",
      "1875/1875 [==============================] - 40s 21ms/step - loss: 0.2315 - accuracy: 0.9310 - val_loss: 0.0733 - val_accuracy: 0.9828\n",
      "Epoch 2/10\n",
      "1875/1875 [==============================] - 40s 21ms/step - loss: 0.1534 - accuracy: 0.9547 - val_loss: 0.0538 - val_accuracy: 0.9875\n",
      "Epoch 3/10\n",
      "1875/1875 [==============================] - 38s 20ms/step - loss: 0.1251 - accuracy: 0.9631 - val_loss: 0.0485 - val_accuracy: 0.9876\n",
      "Epoch 4/10\n",
      "1875/1875 [==============================] - 35s 19ms/step - loss: 0.1093 - accuracy: 0.9678 - val_loss: 0.0381 - val_accuracy: 0.9904\n",
      "Epoch 5/10\n",
      "1875/1875 [==============================] - 40s 21ms/step - loss: 0.0999 - accuracy: 0.9711 - val_loss: 0.0368 - val_accuracy: 0.9893\n",
      "Epoch 6/10\n",
      "1875/1875 [==============================] - 40s 21ms/step - loss: 0.0935 - accuracy: 0.9726 - val_loss: 0.0336 - val_accuracy: 0.9905\n",
      "Epoch 7/10\n",
      "1875/1875 [==============================] - 35s 19ms/step - loss: 0.0876 - accuracy: 0.9748 - val_loss: 0.0310 - val_accuracy: 0.9907\n",
      "Epoch 8/10\n",
      "1875/1875 [==============================] - 43s 23ms/step - loss: 0.0836 - accuracy: 0.9755 - val_loss: 0.0335 - val_accuracy: 0.9904\n",
      "Epoch 9/10\n",
      "1875/1875 [==============================] - 40s 22ms/step - loss: 0.0803 - accuracy: 0.9759 - val_loss: 0.0324 - val_accuracy: 0.9893\n",
      "Epoch 10/10\n",
      "1875/1875 [==============================] - 37s 19ms/step - loss: 0.0768 - accuracy: 0.9777 - val_loss: 0.0298 - val_accuracy: 0.9917\n"
     ]
    }
   ],
   "source": [
    "model.compile(optimizer='adam',\n",
    "              loss=tf.keras.losses.SparseCategoricalCrossentropy(from_logits=False),\n",
    "              metrics=['accuracy'])\n",
    "\n",
    "history = model.fit(x_train, y_train, epochs=10,\n",
    "                    validation_data=(x_test, y_test))"
   ],
   "metadata": {
    "collapsed": false,
    "pycharm": {
     "name": "#%%\n"
    }
   }
  },
  {
   "cell_type": "code",
   "execution_count": 19,
   "outputs": [
    {
     "name": "stdout",
     "output_type": "stream",
     "text": [
      "313/313 - 2s - loss: 0.0298 - accuracy: 0.9917 - 2s/epoch - 6ms/step\n",
      "Test accuracy: 0.9916999936103821\n"
     ]
    },
    {
     "data": {
      "text/plain": "<Figure size 432x288 with 1 Axes>",
      "image/png": "[encoded data removed]"
     },
     "metadata": {
      "needs_background": "light"
     },
     "output_type": "display_data"
    }
   ],
   "source": [
    "plt.plot(history.history['accuracy'], label='train accuracy')\n",
    "plt.plot(history.history['val_accuracy'], label = 'val_accuracy')\n",
    "plt.xlabel('Epoch')\n",
    "plt.ylabel('Accuracy')\n",
    "plt.ylim([0.5, 1])\n",
    "plt.legend(loc='lower right')\n",
    "\n",
    "test_loss, test_acc = model.evaluate(x_test,  y_test, verbose=2)\n",
    "print(f'Test accuracy: {test_acc}')"
   ],
   "metadata": {
    "collapsed": false,
    "pycharm": {
     "name": "#%%\n"
    }
   }
  },
  {
   "cell_type": "code",
   "execution_count": 20,
   "outputs": [
    {
     "name": "stdout",
     "output_type": "stream",
     "text": [
      "INFO:tensorflow:Assets written to: models\\mnist_tf_pretrained\\assets\n"
     ]
    }
   ],
   "source": [
    "tf_path = os.path.join('models', 'mnist_tf_pretrained')\n",
    "tf.saved_model.save(model, tf_path)"
   ],
   "metadata": {
    "collapsed": false,
    "pycharm": {
     "name": "#%%\n"
    }
   }
  },
  {
   "cell_type": "code",
   "execution_count": 26,
   "outputs": [
    {
     "name": "stderr",
     "output_type": "stream",
     "text": [
      "2022-04-24 15:14:43.114655: W tensorflow/stream_executor/platform/default/dso_loader.cc:64] Could not load dynamic library 'cudart64_110.dll'; dlerror: cudart64_110.dll not found\n",
      "2022-04-24 15:14:43.114745: I tensorflow/stream_executor/cuda/cudart_stub.cc:29] Ignore above cudart dlerror if you do not have a GPU set up on your machine.\n",
      "2022-04-24 15:15:04.574630: W tensorflow/stream_executor/platform/default/dso_loader.cc:64] Could not load dynamic library 'cudart64_110.dll'; dlerror: cudart64_110.dll not found\n",
      "2022-04-24 15:15:04.574879: W tensorflow/stream_executor/platform/default/dso_loader.cc:64] Could not load dynamic library 'cublas64_11.dll'; dlerror: cublas64_11.dll not found\n",
      "2022-04-24 15:15:04.575084: W tensorflow/stream_executor/platform/default/dso_loader.cc:64] Could not load dynamic library 'cublasLt64_11.dll'; dlerror: cublasLt64_11.dll not found\n",
      "2022-04-24 15:15:04.575284: W tensorflow/stream_executor/platform/default/dso_loader.cc:64] Could not load dynamic library 'cufft64_10.dll'; dlerror: cufft64_10.dll not found\n",
      "2022-04-24 15:15:04.575481: W tensorflow/stream_executor/platform/default/dso_loader.cc:64] Could not load dynamic library 'curand64_10.dll'; dlerror: curand64_10.dll not found\n",
      "2022-04-24 15:15:04.575688: W tensorflow/stream_executor/platform/default/dso_loader.cc:64] Could not load dynamic library 'cusolver64_11.dll'; dlerror: cusolver64_11.dll not found\n",
      "2022-04-24 15:15:04.575890: W tensorflow/stream_executor/platform/default/dso_loader.cc:64] Could not load dynamic library 'cusparse64_11.dll'; dlerror: cusparse64_11.dll not found\n",
      "2022-04-24 15:15:04.576082: W tensorflow/stream_executor/platform/default/dso_loader.cc:64] Could not load dynamic library 'cudnn64_8.dll'; dlerror: cudnn64_8.dll not found\n",
      "2022-04-24 15:15:04.576132: W tensorflow/core/common_runtime/gpu/gpu_device.cc:1850] Cannot dlopen some GPU libraries. Please make sure the missing libraries mentioned above are installed properly if you would like to use GPU. Follow the guide at https://www.tensorflow.org/install/gpu for how to download and setup the required libraries for your platform.\n",
      "Skipping registering GPU devices...\n",
      "2022-04-24 15:15:04.577430: I tensorflow/core/platform/cpu_feature_guard.cc:151] This TensorFlow binary is optimized with oneAPI Deep Neural Network Library (oneDNN) to use the following CPU instructions in performance-critical operations:  AVX AVX2\n",
      "To enable them in other operations, rebuild TensorFlow with the appropriate compiler flags.\n",
      "C:\\Program Files\\WindowsApps\\PythonSoftwareFoundation.Python.3.8_3.8.2800.0_x64__qbz5n2kfra8p0\\lib\\runpy.py:127: RuntimeWarning: 'tf2onnx.convert' found in sys.modules after import of package 'tf2onnx', but prior to execution of 'tf2onnx.convert'; this may result in unpredictable behaviour\n",
      "  warn(RuntimeWarning(msg))\n",
      "2022-04-24 15:15:04,579 - WARNING - '--tag' not specified for saved_model. Using --tag serve\n",
      "2022-04-24 15:15:05,031 - INFO - Signatures found in model: [serving_default].\n",
      "2022-04-24 15:15:05,031 - WARNING - '--signature_def' not specified, using first signature: serving_default\n",
      "2022-04-24 15:15:05,031 - INFO - Output names: ['dense_1']\n",
      "2022-04-24 15:15:05.038776: I tensorflow/core/grappler/devices.cc:66] Number of eligible GPUs (core count >= 8, compute capability >= 0.0): 0\n",
      "2022-04-24 15:15:05.039029: I tensorflow/core/grappler/clusters/single_machine.cc:358] Starting new session\n",
      "2022-04-24 15:15:05.045485: W tensorflow/core/common_runtime/gpu/gpu_device.cc:1850] Cannot dlopen some GPU libraries. Please make sure the missing libraries mentioned above are installed properly if you would like to use GPU. Follow the guide at https://www.tensorflow.org/install/gpu for how to download and setup the required libraries for your platform.\n",
      "Skipping registering GPU devices...\n",
      "2022-04-24 15:15:05.213114: I tensorflow/core/grappler/optimizers/meta_optimizer.cc:1164] Optimization results for grappler item: graph_to_optimize\n",
      "  function_optimizer: Graph size after: 50 nodes (38), 65 edges (53), time = 2.882ms.\n",
      "  function_optimizer: function_optimizer did nothing. time = 0.001ms.\n",
      "\n",
      "WARNING:tensorflow:From C:\\Users\\simon\\AppData\\Local\\Packages\\PythonSoftwareFoundation.Python.3.8_qbz5n2kfra8p0\\LocalCache\\local-packages\\Python38\\site-packages\\tf2onnx\\tf_loader.py:706: extract_sub_graph (from tensorflow.python.framework.graph_util_impl) is deprecated and will be removed in a future version.\n",
      "Instructions for updating:\n",
      "Use `tf.compat.v1.graph_util.extract_sub_graph`\n",
      "2022-04-24 15:15:05,288 - WARNING - From C:\\Users\\simon\\AppData\\Local\\Packages\\PythonSoftwareFoundation.Python.3.8_qbz5n2kfra8p0\\LocalCache\\local-packages\\Python38\\site-packages\\tf2onnx\\tf_loader.py:706: extract_sub_graph (from tensorflow.python.framework.graph_util_impl) is deprecated and will be removed in a future version.\n",
      "Instructions for updating:\n",
      "Use `tf.compat.v1.graph_util.extract_sub_graph`\n",
      "2022-04-24 15:15:05.296425: I tensorflow/core/grappler/devices.cc:66] Number of eligible GPUs (core count >= 8, compute capability >= 0.0): 0\n",
      "2022-04-24 15:15:05.296755: I tensorflow/core/grappler/clusters/single_machine.cc:358] Starting new session\n",
      "2022-04-24 15:15:05.301645: W tensorflow/core/common_runtime/gpu/gpu_device.cc:1850] Cannot dlopen some GPU libraries. Please make sure the missing libraries mentioned above are installed properly if you would like to use GPU. Follow the guide at https://www.tensorflow.org/install/gpu for how to download and setup the required libraries for your platform.\n",
      "Skipping registering GPU devices...\n",
      "2022-04-24 15:15:05.311666: I tensorflow/core/grappler/optimizers/meta_optimizer.cc:1164] Optimization results for grappler item: graph_to_optimize\n",
      "  constant_folding: Graph size after: 34 nodes (-16), 49 edges (-16), time = 4.819ms.\n",
      "  function_optimizer: function_optimizer did nothing. time = 0.002ms.\n",
      "  constant_folding: Graph size after: 34 nodes (0), 49 edges (0), time = 1.355ms.\n",
      "  function_optimizer: function_optimizer did nothing. time = 0.001ms.\n",
      "\n",
      "2022-04-24 15:15:05,328 - INFO - Using tensorflow=2.8.0, onnx=1.11.0, tf2onnx=1.9.3/1190aa\n",
      "2022-04-24 15:15:05,328 - INFO - Using opset <onnx, 9>\n",
      "2022-04-24 15:15:05,352 - INFO - Computed 0 values for constant folding\n",
      "2022-04-24 15:15:05,392 - INFO - Optimizing ONNX model\n",
      "2022-04-24 15:15:05,484 - INFO - After optimization: Cast -1 (1->0), Const +1 (9->10), Identity -7 (7->0), Reshape +1 (1->2), Transpose -7 (8->1)\n",
      "2022-04-24 15:15:05,488 - INFO - \n",
      "2022-04-24 15:15:05,488 - INFO - Successfully converted TensorFlow model ./models/mnist_tf_pretrained to ONNX\n",
      "2022-04-24 15:15:05,488 - INFO - Model inputs: ['conv2d_4_input']\n",
      "2022-04-24 15:15:05,488 - INFO - Model outputs: ['dense_1']\n",
      "2022-04-24 15:15:05,488 - INFO - ONNX model is saved at ./models/mnist_onnx_from_tf.onnx\n"
     ]
    }
   ],
   "source": [
    "!python3 -m tf2onnx.convert --saved-model ./models/mnist_tf_pretrained --output ./models/mnist_onnx_from_tf.onnx"
   ],
   "metadata": {
    "collapsed": false,
    "pycharm": {
     "name": "#%%\n"
    }
   }
  },
  {
   "cell_type": "code",
   "execution_count": 5,
   "outputs": [
    {
     "name": "stdout",
     "output_type": "stream",
     "text": [
      "GraphModule(\n",
      "  (Conv_0): Conv2d(1, 10, kernel_size=(5, 5), stride=(1, 1))\n",
      "  (MaxPool_0): MaxPool2d(kernel_size=[2, 2], stride=[2, 2], padding=[0, 0], dilation=1, ceil_mode=False)\n",
      "  (Relu_0): ReLU()\n",
      "  (Conv_1): Conv2d(10, 20, kernel_size=(5, 5), stride=(1, 1))\n",
      "  (MaxPool_1): MaxPool2d(kernel_size=[2, 2], stride=[2, 2], padding=[0, 0], dilation=1, ceil_mode=False)\n",
      "  (Relu_1): ReLU()\n",
      "  (Constant_0): OnnxConstant()\n",
      "  (Reshape_0): OnnxReshape()\n",
      "  (Gemm_0): Linear(in_features=320, out_features=50, bias=True)\n",
      "  (Relu_2): ReLU()\n",
      "  (Gemm_1): Linear(in_features=50, out_features=10, bias=True)\n",
      "  (LogSoftmax_0): OnnxSoftmaxV1V11()\n",
      ")\n",
      "\n",
      "\n",
      "\n",
      "def forward(self, input_1):\n",
      "    conv_0 = self.Conv_0(input_1);  input_1 = None\n",
      "    max_pool_0 = self.MaxPool_0(conv_0);  conv_0 = None\n",
      "    relu_0 = self.Relu_0(max_pool_0);  max_pool_0 = None\n",
      "    conv_1 = self.Conv_1(relu_0);  relu_0 = None\n",
      "    max_pool_1 = self.MaxPool_1(conv_1);  conv_1 = None\n",
      "    relu_1 = self.Relu_1(max_pool_1);  max_pool_1 = None\n",
      "    constant_0 = self.Constant_0()\n",
      "    reshape_0 = self.Reshape_0(relu_1, constant_0);  relu_1 = constant_0 = None\n",
      "    gemm_0 = self.Gemm_0(reshape_0);  reshape_0 = None\n",
      "    relu_2 = self.Relu_2(gemm_0);  gemm_0 = None\n",
      "    gemm_1 = self.Gemm_1(relu_2);  relu_2 = None\n",
      "    log_softmax_0 = self.LogSoftmax_0(gemm_1);  gemm_1 = None\n",
      "    return log_softmax_0\n",
      "    \n"
     ]
    }
   ],
   "source": [
    "import torch\n",
    "# use external onnx to torch conversion tool\n",
    "from onnx2torch.converter import convert\n",
    "\n",
    "onnx_path = os.path.join('models', 'mnist_onnx.onnx')\n",
    "torch_model = convert(onnx_path)\n",
    "\n",
    "print(torch_model)"
   ],
   "metadata": {
    "collapsed": false,
    "pycharm": {
     "name": "#%%\n"
    }
   }
  },
  {
   "cell_type": "code",
   "execution_count": 9,
   "outputs": [
    {
     "name": "stdout",
     "output_type": "stream",
     "text": [
      "(1, 28, 28, 1)\n"
     ]
    }
   ],
   "source": [
    "print(np.shape([x_train[0]]))"
   ],
   "metadata": {
    "collapsed": false,
    "pycharm": {
     "name": "#%%\n"
    }
   }
  },
  {
   "cell_type": "code",
   "execution_count": 6,
   "outputs": [
    {
     "name": "stdout",
     "output_type": "stream",
     "text": [
      "Conv_0.weight\n",
      "<class 'torch.nn.parameter.Parameter'>\n",
      "torch.Size([10, 1, 5, 5])\n",
      "------------------\n",
      "Conv_0.bias\n",
      "<class 'torch.nn.parameter.Parameter'>\n",
      "torch.Size([10])\n",
      "------------------\n",
      "Conv_1.weight\n",
      "<class 'torch.nn.parameter.Parameter'>\n",
      "torch.Size([20, 10, 5, 5])\n",
      "------------------\n",
      "Conv_1.bias\n",
      "<class 'torch.nn.parameter.Parameter'>\n",
      "torch.Size([20])\n",
      "------------------\n",
      "Gemm_0.weight\n",
      "<class 'torch.nn.parameter.Parameter'>\n",
      "torch.Size([50, 320])\n",
      "------------------\n",
      "Gemm_0.bias\n",
      "<class 'torch.nn.parameter.Parameter'>\n",
      "torch.Size([50])\n",
      "------------------\n",
      "Gemm_1.weight\n",
      "<class 'torch.nn.parameter.Parameter'>\n",
      "torch.Size([10, 50])\n",
      "------------------\n",
      "Gemm_1.bias\n",
      "<class 'torch.nn.parameter.Parameter'>\n",
      "torch.Size([10])\n",
      "------------------\n"
     ]
    }
   ],
   "source": [
    "for name, param in torch_model.named_parameters():\n",
    "    print(name)\n",
    "    print(type(param))\n",
    "    print(param.data.size())\n",
    "    print('------------------')"
   ],
   "metadata": {
    "collapsed": false,
    "pycharm": {
     "name": "#%%\n"
    }
   }
  },
  {
   "cell_type": "code",
   "execution_count": 18,
   "outputs": [
    {
     "name": "stdout",
     "output_type": "stream",
     "text": [
      "tensor([[-3.8014, -4.7755, -4.7531, -1.5174, -5.2118, -0.5540, -3.8900, -4.8292,\n",
      "         -2.6876, -2.7375],\n",
      "        [-0.0952, -6.2320, -3.5765, -5.2926, -6.1524, -4.6402, -4.8663, -4.4810,\n",
      "         -4.2053, -4.5903],\n",
      "        [-6.1454, -4.7001, -4.1767, -4.1127, -0.3050, -4.6022, -5.1774, -3.1927,\n",
      "         -4.0215, -1.9292],\n",
      "        [-6.1629, -0.1944, -3.3710, -4.8229, -3.4943, -5.0990, -5.2544, -3.1471,\n",
      "         -3.2425, -4.7800],\n",
      "        [-6.5111, -5.4855, -5.2196, -4.1087, -2.2454, -4.5443, -6.3971, -2.3494,\n",
      "         -2.6726, -0.3713]], grad_fn=<ReshapeAliasBackward0>)\n",
      "tensor([5, 0, 4, 1, 9])\n"
     ]
    },
    {
     "data": {
      "text/plain": "<Figure size 1152x720 with 5 Axes>",
      "image/png": "[encoded data removed]"
     },
     "metadata": {
      "needs_background": "light"
     },
     "output_type": "display_data"
    }
   ],
   "source": [
    "reshaped_input = np.reshape(x_train[:5], (5, 1, 28, 28))\n",
    "torch_input = torch.from_numpy(reshaped_input).float()\n",
    "torch_output = torch_model(torch_input)\n",
    "print(torch_output)\n",
    "torch_argmax = torch.argmax(torch_output, dim=1)\n",
    "print(torch_argmax)\n",
    "\n",
    "figure = plt.figure(figsize=(16, 10))\n",
    "cols, rows = 5, 1\n",
    "for i in range(1, cols * rows + 1):\n",
    "    figure.add_subplot(rows, cols, i)\n",
    "    plt.title(f'label: {y_train[i-1]}, prediction: {torch_argmax[i-1]}')\n",
    "    plt.axis(\"off\")\n",
    "    plt.imshow(x_train[i-1].squeeze(), cmap=\"gray\")\n",
    "plt.show()"
   ],
   "metadata": {
    "collapsed": false,
    "pycharm": {
     "name": "#%%\n"
    }
   }
  }
 ],
 "metadata": {
  "kernelspec": {
   "display_name": "Python 3",
   "language": "python",
   "name": "python3"
  },
  "language_info": {
   "codemirror_mode": {
    "name": "ipython",
    "version": 2
   },
   "file_extension": ".py",
   "mimetype": "text/x-python",
   "name": "python",
   "nbconvert_exporter": "python",
   "pygments_lexer": "ipython2",
   "version": "2.7.6"
  }
 },
 "nbformat": 4,
 "nbformat_minor": 0
}